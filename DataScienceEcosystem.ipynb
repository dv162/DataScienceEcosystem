{
 "cells": [
  {
   "cell_type": "markdown",
   "id": "01227fc1",
   "metadata": {},
   "source": [
    "<center>\n",
    "    <img src=\"https://cf-courses-data.s3.us.cloud-object-storage.appdomain.cloud/IBMDeveloperSkillsNetwork-DS0105EN-SkillsNetwork/labs/Module2/images/SN_web_lightmode.png\" width=\"300\" alt=\"cognitiveclass.ai logo\">\n",
    "</center>\n"
   ]
  },
  {
   "cell_type": "markdown",
   "id": "7ef19e2a",
   "metadata": {},
   "source": [
    "## Exercise 2 - Create a markdown cell with the title of the notebook.\n",
    "# Data Science Tools and Ecosystem"
   ]
  },
  {
   "cell_type": "markdown",
   "id": "36f17356",
   "metadata": {},
   "source": [
    "## Exercise 3 - Create a markdown cell for an introduction.\n",
    "In this notebook, Data Science Tools and Ecosystem are summarized.\n",
    "### Objectives:\n",
    "- **List popular languages for Data Science.**\n",
    "- **Highlight commonly used libraries in data science.**\n",
    "- **Introduce Data Science tools and environments.**"
   ]
  },
  {
   "cell_type": "markdown",
   "id": "cee890e9",
   "metadata": {},
   "source": [
    "## Exercise 4 - Create a markdown cell to list data science languages\n",
    "Some of the popular languages that Data Scientists use are:\n",
    "1. Python\n",
    "2. R\n",
    "3. Julia"
   ]
  },
  {
   "cell_type": "markdown",
   "id": "7d6848a2",
   "metadata": {},
   "source": [
    "## Exercise 5 - Create a markdown cell to list data science libraries.\n",
    "Some of the commonly used libraries used by Data Scientists include:\n",
    "1. Pandas\n",
    "2. NumPy\n",
    "3. Scikit-learn"
   ]
  },
  {
   "cell_type": "markdown",
   "id": "6be5f7e1",
   "metadata": {},
   "source": [
    "## Exercise 6 - Create a markdown cell with a table of Data Science tools.\n",
    "### Data Science Tools\n",
    "| Data Science Tools |\n",
    "| ------------------- |\n",
    "| Jupyter Notebooks   |\n",
    "| RStudio             |\n",
    "| VS Code             |"
   ]
  },
  {
   "cell_type": "markdown",
   "id": "68e1c3a6",
   "metadata": {},
   "source": [
    "## Exercise 7 - Create a markdown cell introducing arithmetic expression examples.\n",
    "### Below are a few examples of evaluating arithmetic expressions in Python."
   ]
  },
  {
   "cell_type": "markdown",
   "id": "02dd240f",
   "metadata": {},
   "source": [
    "## Exercise 8 - Create a code cell to multiply and add numbers"
   ]
  },
  {
   "cell_type": "markdown",
   "id": "3d4e3517",
   "metadata": {},
   "source": [
    "This is a simple arithmetic expression to multiply then add integers.\n"
   ]
  },
  {
   "cell_type": "code",
   "execution_count": 13,
   "id": "509cfddf",
   "metadata": {},
   "outputs": [
    {
     "data": {
      "text/plain": [
       "17"
      ]
     },
     "execution_count": 13,
     "metadata": {},
     "output_type": "execute_result"
    }
   ],
   "source": [
    "result = (3*4)+5\n",
    "result"
   ]
  },
  {
   "cell_type": "markdown",
   "id": "ce6c7788",
   "metadata": {},
   "source": [
    "## Exercise 9 - Create a code cell to convert minutes to hours"
   ]
  },
  {
   "cell_type": "markdown",
   "id": "274a4f42",
   "metadata": {},
   "source": [
    "This will convert 200 minutes to hours by diving by 60"
   ]
  },
  {
   "cell_type": "code",
   "execution_count": 14,
   "id": "074cfc75",
   "metadata": {},
   "outputs": [
    {
     "name": "stdout",
     "output_type": "stream",
     "text": [
      "3.3333333333333335hours, 0mins\n"
     ]
    }
   ],
   "source": [
    "mins = 0\n",
    "hours = 0\n",
    "time = 200\n",
    "\n",
    "hours = time / 60\n",
    "print(str(hours)+ \"hours, \" + str(mins)+ \"mins\")"
   ]
  },
  {
   "cell_type": "markdown",
   "id": "d7121bae",
   "metadata": {},
   "source": [
    "## Author \n",
    "- **Lakshmi Holla**\n",
    "- **Niveditha Pandith**"
   ]
  },
  {
   "cell_type": "code",
   "execution_count": null,
   "id": "43ce3235",
   "metadata": {},
   "outputs": [],
   "source": []
  }
 ],
 "metadata": {
  "kernelspec": {
   "display_name": "Python 3 (ipykernel)",
   "language": "python",
   "name": "python3"
  },
  "language_info": {
   "codemirror_mode": {
    "name": "ipython",
    "version": 3
   },
   "file_extension": ".py",
   "mimetype": "text/x-python",
   "name": "python",
   "nbconvert_exporter": "python",
   "pygments_lexer": "ipython3",
   "version": "3.10.9"
  }
 },
 "nbformat": 4,
 "nbformat_minor": 5
}
